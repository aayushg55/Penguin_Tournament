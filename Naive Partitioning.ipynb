{
 "cells": [
  {
   "cell_type": "code",
   "execution_count": 1,
   "metadata": {},
   "outputs": [
    {
     "name": "stderr",
     "output_type": "stream",
     "text": [
      "/opt/homebrew/lib/python3.10/site-packages/tqdm/auto.py:22: TqdmWarning: IProgress not found. Please update jupyter and ipywidgets. See https://ipywidgets.readthedocs.io/en/stable/user_install.html\n",
      "  from .autonotebook import tqdm as notebook_tqdm\n"
     ]
    }
   ],
   "source": [
    "from starter import *\n",
    "from anneal import *\n",
    "import math\n",
    "import multiprocess as mp\n",
    "import copy, random\n",
    "from collections import defaultdict, Counter\n",
    "import itertools\n",
    "from bs4 import BeautifulSoup\n",
    "import requests\n",
    "from heapq import heapify, heappop, heappush\n",
    "tar('outputs', overwrite = True)"
   ]
  },
  {
   "cell_type": "code",
   "execution_count": 2,
   "metadata": {},
   "outputs": [],
   "source": [
    "tar('outputs', overwrite = True)"
   ]
  },
  {
   "cell_type": "code",
   "execution_count": 3,
   "metadata": {},
   "outputs": [],
   "source": [
    "def apply_pi(G, pi):\n",
    "    num_v = len(G.nodes)\n",
    "    assert num_v == len(pi)\n",
    "    max_p = max(pi)\n",
    "\n",
    "    p = list(Counter(pi))\n",
    "    p.sort()\n",
    "    map_p = {p[i]:i for i in range(len(p))}\n",
    "    for v in range(num_v):\n",
    "        G.nodes[v]['team'] = int(map_p[pi[v]] + 1)\n",
    "    return G  "
   ]
  },
  {
   "cell_type": "code",
   "execution_count": 4,
   "metadata": {},
   "outputs": [
    {
     "data": {
      "text/plain": [
       "285"
      ]
     },
     "execution_count": 4,
     "metadata": {},
     "output_type": "execute_result"
    }
   ],
   "source": [
    "def get_all_low():\n",
    "    f = open('all.txt', 'r')\n",
    "    \n",
    "    lines = f.readlines()\n",
    "    names = []\n",
    "    for line in lines:\n",
    "        size, num = line.strip().split()\n",
    "        names.append((size+num+'.in', size, num))\n",
    "    return names\n",
    "low_scores_all = get_all_low()\n",
    "len(low_scores_all)"
   ]
  },
  {
   "cell_type": "code",
   "execution_count": 5,
   "metadata": {},
   "outputs": [
    {
     "name": "stderr",
     "output_type": "stream",
     "text": [
      "100%|██████████| 285/285 [01:40<00:00,  2.84it/s]\n"
     ]
    }
   ],
   "source": [
    "### Gets \"optimal\" score\n",
    "target_scores = []\n",
    "for filename, size, num in tqdm(low_scores_all):\n",
    "    url='https://170-leaderboard.vercel.app/input/'+size+'/'+ num\n",
    "    req=requests.get(url)\n",
    "    content=req.text\n",
    "    soup=BeautifulSoup(content)\n",
    "    raw = soup.findAll('td')[5].text\n",
    "    target = float(raw)+0.01\n",
    "    target_scores.append([filename,target])"
   ]
  },
  {
   "cell_type": "code",
   "execution_count": 6,
   "metadata": {},
   "outputs": [],
   "source": [
    "df = pd.read_csv('best_scores.csv')\n",
    "for i in range(len(target_scores)):\n",
    "    filename, target = target_scores[i][:2]\n",
    "    approx = 2*np.log(target/100)\n",
    "    k = math.floor(approx)\n",
    "    r = df.index[df['name'] == filename]\n",
    "    num_p = int(df.iloc[r]['k'])\n",
    "    if abs(k-num_p) > 3:\n",
    "        k = num_p\n",
    "    target_scores[i] = [filename, str(target),str(k)]"
   ]
  },
  {
   "cell_type": "code",
   "execution_count": 7,
   "metadata": {},
   "outputs": [],
   "source": [
    "f = open(\"target_soln_new.txt\", \"w\")\n",
    "for line in target_scores:\n",
    "    f.write(line[0] + ' ' + line[1] + ' ' + line[2])\n",
    "    f.write('\\n')\n",
    "f.close()"
   ]
  },
  {
   "cell_type": "code",
   "execution_count": 6,
   "metadata": {},
   "outputs": [],
   "source": [
    "def write(instance, in_file, out_file, file_name, cost, k, overwrite):\n",
    "    df = pd.read_csv('best_scores.csv')\n",
    "    r = df.index[df['name'] == file_name]\n",
    "    original = float(df.loc[r, 'score'])\n",
    "    if cost < original:\n",
    "        df.loc[r, 'score'] = cost\n",
    "        df.loc[r, 'k'] = k\n",
    "        df.to_csv('best_scores.csv', index=False)\n",
    "        print(f\"{str(in_file)}: cost\", original, '->',score(instance))\n",
    "        write_output(instance, out_file, overwrite)"
   ]
  },
  {
   "cell_type": "code",
   "execution_count": 7,
   "metadata": {},
   "outputs": [
    {
     "name": "stdout",
     "output_type": "stream",
     "text": [
      "inputs/medium224.in: cost 34540.042697073266 -> 34365.70364765726\n",
      "inputs/medium126.in: cost 2009.5536923187667 -> 1813.905609893065\n",
      "inputs/large224.in: cost 38038.45954827273 -> 37926.69107937125\n",
      "inputs/small34.in: cost 169821.7311602446 -> 166319.97388281234\n",
      "inputs/small102.in: cost 130122.14243574018 -> 129067.90918776828\n",
      "inputs/medium151.in: cost 35974.870601390765 -> 31503.522451794142\n",
      "inputs/small118.in: cost 160475.41592657613 -> 159953.49323151432\n",
      "inputs/small251.in: cost 23796.992492811816 -> 23341.99945932661\n",
      "inputs/small141.in: cost 4173.125063845673 -> 3894.283972521378\n"
     ]
    }
   ],
   "source": [
    "df = pd.read_csv('best_scores.csv')\n",
    "df2 = pd.read_csv('best_scores_first.csv')\n",
    "for file, cost_my, cost_target in targets:\n",
    "    G = read_input('inputs/'+file)\n",
    "    f_my = open(str(Path('outputs') / f\"{file[:-len('.in')]}.out\"))\n",
    "    f_first = open(str(Path('outputs_first') / f\"{file[:-len('.in')]}.out\"))\n",
    "    pi_my = json.load(f_my)\n",
    "    apply_pi(G, pi_my)\n",
    "    score_my = score(G)\n",
    "    \n",
    "    pi_first = json.load(f_first)\n",
    "    apply_pi(G, pi_first)\n",
    "    score_first = score(G)\n",
    "    \n",
    "    r = df.index[df['name'] == file]\n",
    "    k = int(df.loc[r, 'k'])\n",
    "    \n",
    "    if score_first < score_my:\n",
    "        write(G,'inputs/'+file,str(Path('outputs') / f\"{file[:-len('.in')]}.out\"), file, score_first,k, True)\n",
    "    f_my.close()\n",
    "    f_first.close()"
   ]
  },
  {
   "cell_type": "code",
   "execution_count": 11,
   "metadata": {},
   "outputs": [],
   "source": [
    "### Naive Partitioner\n",
    "for file, cost_tar, k_tar in targets:    \n",
    "    G = read_input('inputs/'+file)\n",
    "    out_dir = str(Path('outputs') / f\"{file[:-len('.in')]}.out\")\n",
    "    in_dir = 'inputs/'+file\n",
    "    df = pd.read_csv('best_scores.csv')\n",
    "    r = df.index[df['name'] == file]\n",
    "    original_c = float(df.loc[r, 'score'])\n",
    "    \n",
    "    for k in range(2, 22):\n",
    "        for v in G.nodes:\n",
    "            G.nodes[v]['team'] = v % k + 1\n",
    "        sc = score(G)\n",
    "        if sc < original_c:\n",
    "            write(G,'inputs/'+file,str(Path('outputs') / f\"{file[:-len('.in')]}.out\"), file, score_first,k, True)"
   ]
  }
 ],
 "metadata": {
  "kernelspec": {
   "display_name": "Python 3.10.8 64-bit",
   "language": "python",
   "name": "python3"
  },
  "language_info": {
   "codemirror_mode": {
    "name": "ipython",
    "version": 3
   },
   "file_extension": ".py",
   "mimetype": "text/x-python",
   "name": "python",
   "nbconvert_exporter": "python",
   "pygments_lexer": "ipython3",
   "version": "3.10.8"
  },
  "orig_nbformat": 4,
  "vscode": {
   "interpreter": {
    "hash": "b0fa6594d8f4cbf19f97940f81e996739fb7646882a419484c72d19e05852a7e"
   }
  }
 },
 "nbformat": 4,
 "nbformat_minor": 2
}
