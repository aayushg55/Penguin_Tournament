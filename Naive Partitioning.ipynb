{
 "cells": [
  {
   "cell_type": "code",
   "execution_count": 1,
   "metadata": {},
   "outputs": [
    {
     "name": "stderr",
     "output_type": "stream",
     "text": [
      "/opt/homebrew/lib/python3.10/site-packages/tqdm/auto.py:22: TqdmWarning: IProgress not found. Please update jupyter and ipywidgets. See https://ipywidgets.readthedocs.io/en/stable/user_install.html\n",
      "  from .autonotebook import tqdm as notebook_tqdm\n"
     ]
    }
   ],
   "source": [
    "from starter import *\n",
    "from anneal import *\n",
    "import math\n",
    "import multiprocess as mp\n",
    "import copy, random\n",
    "from collections import defaultdict, Counter\n",
    "import itertools\n",
    "from bs4 import BeautifulSoup\n",
    "import requests\n",
    "from heapq import heapify, heappop, heappush\n",
    "tar('outputs', overwrite = True)"
   ]
  },
  {
   "cell_type": "code",
   "execution_count": 2,
   "metadata": {},
   "outputs": [],
   "source": [
    "tar('outputs', overwrite = True)"
   ]
  },
  {
   "cell_type": "code",
   "execution_count": 2,
   "metadata": {},
   "outputs": [],
   "source": [
    "def apply_pi(G, pi):\n",
    "    num_v = len(G.nodes)\n",
    "    assert num_v == len(pi)\n",
    "    max_p = max(pi)\n",
    "\n",
    "    p = list(Counter(pi))\n",
    "    p.sort()\n",
    "    map_p = {p[i]:i for i in range(len(p))}\n",
    "    for v in range(num_v):\n",
    "        G.nodes[v]['team'] = int(map_p[pi[v]] + 1)\n",
    "    return G  "
   ]
  },
  {
   "cell_type": "code",
   "execution_count": 3,
   "metadata": {},
   "outputs": [
    {
     "data": {
      "text/plain": [
       "285"
      ]
     },
     "execution_count": 3,
     "metadata": {},
     "output_type": "execute_result"
    }
   ],
   "source": [
    "def get_all_low():\n",
    "    f = open('all.txt', 'r')\n",
    "    \n",
    "    lines = f.readlines()\n",
    "    names = []\n",
    "    for line in lines:\n",
    "        size, num = line.strip().split()\n",
    "        names.append((size+num+'.in', size, num))\n",
    "    return names\n",
    "low_scores_all = get_all_low()\n",
    "len(low_scores_all)"
   ]
  },
  {
   "cell_type": "code",
   "execution_count": 5,
   "metadata": {},
   "outputs": [
    {
     "name": "stderr",
     "output_type": "stream",
     "text": [
      "100%|██████████| 285/285 [01:40<00:00,  2.84it/s]\n"
     ]
    }
   ],
   "source": [
    "### Gets \"optimal\" score\n",
    "target_scores = []\n",
    "for filename, size, num in tqdm(low_scores_all):\n",
    "    url='https://170-leaderboard.vercel.app/input/'+size+'/'+ num\n",
    "    req=requests.get(url)\n",
    "    content=req.text\n",
    "    soup=BeautifulSoup(content)\n",
    "    raw = soup.findAll('td')[5].text\n",
    "    target = float(raw)+0.01\n",
    "    target_scores.append([filename,target])"
   ]
  },
  {
   "cell_type": "code",
   "execution_count": 6,
   "metadata": {},
   "outputs": [],
   "source": [
    "df = pd.read_csv('best_scores.csv')\n",
    "for i in range(len(target_scores)):\n",
    "    filename, target = target_scores[i][:2]\n",
    "    approx = 2*np.log(target/100)\n",
    "    k = math.floor(approx)\n",
    "    r = df.index[df['name'] == filename]\n",
    "    num_p = int(df.iloc[r]['k'])\n",
    "    if abs(k-num_p) > 3:\n",
    "        k = num_p\n",
    "    target_scores[i] = [filename, str(target),str(k)]"
   ]
  },
  {
   "cell_type": "code",
   "execution_count": 7,
   "metadata": {},
   "outputs": [],
   "source": [
    "f = open(\"target_soln_new.txt\", \"w\")\n",
    "for line in target_scores:\n",
    "    f.write(line[0] + ' ' + line[1] + ' ' + line[2])\n",
    "    f.write('\\n')\n",
    "f.close()"
   ]
  },
  {
   "cell_type": "code",
   "execution_count": 4,
   "metadata": {},
   "outputs": [],
   "source": [
    "def write(instance, in_file, out_file, file_name, cost, k, overwrite):\n",
    "    df = pd.read_csv('best_scores.csv')\n",
    "    r = df.index[df['name'] == file_name]\n",
    "    original = float(df.loc[r, 'score'])\n",
    "    if cost < original:\n",
    "        df.loc[r, 'score'] = cost\n",
    "        df.loc[r, 'k'] = k\n",
    "        df.to_csv('best_scores.csv', index=False)\n",
    "        print(f\"{str(in_file)}: cost\", original, '->',score(instance))\n",
    "        write_output(instance, out_file, overwrite)"
   ]
  },
  {
   "cell_type": "code",
   "execution_count": 5,
   "metadata": {},
   "outputs": [
    {
     "name": "stderr",
     "output_type": "stream",
     "text": [
      "  5%|▌         | 39/780 [00:00<00:17, 41.87it/s]"
     ]
    },
    {
     "name": "stdout",
     "output_type": "stream",
     "text": [
      "inputs/large163.in: cost 31481.80216654946 -> 31379.560881495607\n"
     ]
    },
    {
     "name": "stderr",
     "output_type": "stream",
     "text": [
      " 20%|█▉        | 154/780 [00:03<00:14, 41.88it/s]"
     ]
    },
    {
     "name": "stdout",
     "output_type": "stream",
     "text": [
      "inputs/large166.in: cost 23171.857658878635 -> 22149.617911531233\n"
     ]
    },
    {
     "name": "stderr",
     "output_type": "stream",
     "text": [
      " 22%|██▏       | 172/780 [00:03<00:10, 55.29it/s]"
     ]
    },
    {
     "name": "stdout",
     "output_type": "stream",
     "text": [
      "inputs/large224.in: cost 37926.69107937125 -> 37061.69464696912\n"
     ]
    },
    {
     "name": "stderr",
     "output_type": "stream",
     "text": [
      " 33%|███▎      | 260/780 [00:06<00:12, 41.72it/s]"
     ]
    },
    {
     "name": "stdout",
     "output_type": "stream",
     "text": [
      "inputs/small17.in: cost 2013.58953437996 -> 1976.0207180049056\n"
     ]
    },
    {
     "name": "stderr",
     "output_type": "stream",
     "text": [
      " 43%|████▎     | 335/780 [00:07<00:10, 43.18it/s]"
     ]
    },
    {
     "name": "stdout",
     "output_type": "stream",
     "text": [
      "inputs/medium223.in: cost 440502.6535340232 -> 439565.4145999371\n"
     ]
    },
    {
     "name": "stderr",
     "output_type": "stream",
     "text": [
      " 46%|████▌     | 360/780 [00:08<00:08, 48.45it/s]"
     ]
    },
    {
     "name": "stdout",
     "output_type": "stream",
     "text": [
      "inputs/medium134.in: cost 113729.55379323488 -> 110737.60995561059\n"
     ]
    },
    {
     "name": "stderr",
     "output_type": "stream",
     "text": [
      " 48%|████▊     | 373/780 [00:08<00:09, 41.03it/s]"
     ]
    },
    {
     "name": "stdout",
     "output_type": "stream",
     "text": [
      "inputs/small239.in: cost 1317.304596037192 -> 1304.4603010261908\n"
     ]
    },
    {
     "name": "stderr",
     "output_type": "stream",
     "text": [
      " 51%|█████     | 396/780 [00:09<00:07, 48.06it/s]"
     ]
    },
    {
     "name": "stdout",
     "output_type": "stream",
     "text": [
      "inputs/medium192.in: cost 159252.4223209113 -> 158376.97081429444\n"
     ]
    },
    {
     "name": "stderr",
     "output_type": "stream",
     "text": [
      " 54%|█████▍    | 422/780 [00:09<00:06, 51.35it/s]"
     ]
    },
    {
     "name": "stdout",
     "output_type": "stream",
     "text": [
      "inputs/large30.in: cost 34290.80216654946 -> 34188.56088149561\n",
      "inputs/medium113.in: cost 68264.9267061148 -> 66374.858470326\n"
     ]
    },
    {
     "name": "stderr",
     "output_type": "stream",
     "text": [
      " 59%|█████▊    | 457/780 [00:10<00:05, 64.04it/s]"
     ]
    },
    {
     "name": "stdout",
     "output_type": "stream",
     "text": [
      "inputs/medium166.in: cost 54435.59297944166 -> 52312.01354045731\n",
      "inputs/medium224.in: cost 34365.70364765726 -> 31864.75995541052\n"
     ]
    },
    {
     "name": "stderr",
     "output_type": "stream",
     "text": [
      " 65%|██████▌   | 510/780 [00:11<00:04, 63.45it/s]"
     ]
    },
    {
     "name": "stdout",
     "output_type": "stream",
     "text": [
      "inputs/medium156.in: cost 227364.98008567136 -> 227269.9800856715\n",
      "inputs/small92.in: cost 270828.01581064693 -> 270652.01581064693\n"
     ]
    },
    {
     "name": "stderr",
     "output_type": "stream",
     "text": [
      " 66%|██████▋   | 518/780 [00:11<00:04, 53.60it/s]"
     ]
    },
    {
     "name": "stdout",
     "output_type": "stream",
     "text": [
      "inputs/medium240.in: cost 96071.74944955336 -> 93181.48515159641\n"
     ]
    },
    {
     "name": "stderr",
     "output_type": "stream",
     "text": [
      " 68%|██████▊   | 531/780 [00:11<00:05, 47.97it/s]"
     ]
    },
    {
     "name": "stdout",
     "output_type": "stream",
     "text": [
      "inputs/medium163.in: cost 87557.74944954777 -> 83461.4851515964\n",
      "inputs/medium132.in: cost 99737.49225722316 -> 98568.74944956275\n"
     ]
    },
    {
     "name": "stderr",
     "output_type": "stream",
     "text": [
      " 74%|███████▍  | 576/780 [00:12<00:03, 63.77it/s]"
     ]
    },
    {
     "name": "stdout",
     "output_type": "stream",
     "text": [
      "inputs/large238.in: cost 739.905609893065 -> 449.2277266951576\n"
     ]
    },
    {
     "name": "stderr",
     "output_type": "stream",
     "text": [
      " 78%|███████▊  | 608/780 [00:13<00:04, 42.11it/s]"
     ]
    },
    {
     "name": "stdout",
     "output_type": "stream",
     "text": [
      "inputs/medium119.in: cost 30247.913986133608 -> 29431.301923425952\n",
      "inputs/medium71.in: cost 149443.1330647236 -> 141920.1963397978\n"
     ]
    },
    {
     "name": "stderr",
     "output_type": "stream",
     "text": [
      " 96%|█████████▋| 751/780 [00:16<00:00, 48.66it/s]"
     ]
    },
    {
     "name": "stdout",
     "output_type": "stream",
     "text": [
      "inputs/small157.in: cost 99255.15500661256 -> 98952.1881231363\n"
     ]
    },
    {
     "name": "stderr",
     "output_type": "stream",
     "text": [
      " 98%|█████████▊| 767/780 [00:16<00:00, 55.72it/s]"
     ]
    },
    {
     "name": "stdout",
     "output_type": "stream",
     "text": [
      "inputs/medium159.in: cost 21280.77278818516 -> 21250.772788185157\n"
     ]
    },
    {
     "name": "stderr",
     "output_type": "stream",
     "text": [
      "100%|██████████| 780/780 [00:16<00:00, 47.07it/s]\n"
     ]
    }
   ],
   "source": [
    "df = pd.read_csv('best_scores.csv')\n",
    "df2 = pd.read_csv('best_scores_first.csv')\n",
    "files = [x for x in os.listdir('inputs') if x.endswith('.in')]\n",
    "for file in tqdm(files):\n",
    "    G = read_input('inputs/'+file)\n",
    "    f_my = open(str(Path('outputs') / f\"{file[:-len('.in')]}.out\"))\n",
    "    f_first = open(str(Path('outputs 2') / f\"{file[:-len('.in')]}.out\"))\n",
    "    pi_my = json.load(f_my)\n",
    "    apply_pi(G, pi_my)\n",
    "    score_my = score(G)\n",
    "    \n",
    "    pi_first = json.load(f_first)\n",
    "    apply_pi(G, pi_first)\n",
    "    score_first = score(G)\n",
    "    \n",
    "    r = df.index[df['name'] == file]\n",
    "    k = int(df.loc[r, 'k'])\n",
    "    \n",
    "    if score_first < score_my:\n",
    "        write(G,'inputs/'+file,str(Path('outputs') / f\"{file[:-len('.in')]}.out\"), file, score_first,k, True)\n",
    "    f_my.close()\n",
    "    f_first.close()"
   ]
  },
  {
   "cell_type": "code",
   "execution_count": 11,
   "metadata": {},
   "outputs": [],
   "source": [
    "### Naive Partitioner\n",
    "for file, cost_tar, k_tar in targets:    \n",
    "    G = read_input('inputs/'+file)\n",
    "    out_dir = str(Path('outputs') / f\"{file[:-len('.in')]}.out\")\n",
    "    in_dir = 'inputs/'+file\n",
    "    df = pd.read_csv('best_scores.csv')\n",
    "    r = df.index[df['name'] == file]\n",
    "    original_c = float(df.loc[r, 'score'])\n",
    "    \n",
    "    for k in range(2, 22):\n",
    "        for v in G.nodes:\n",
    "            G.nodes[v]['team'] = v % k + 1\n",
    "        sc = score(G)\n",
    "        if sc < original_c:\n",
    "            write(G,'inputs/'+file,str(Path('outputs') / f\"{file[:-len('.in')]}.out\"), file, score_first,k, True)"
   ]
  }
 ],
 "metadata": {
  "kernelspec": {
   "display_name": "Python 3.10.8 64-bit",
   "language": "python",
   "name": "python3"
  },
  "language_info": {
   "codemirror_mode": {
    "name": "ipython",
    "version": 3
   },
   "file_extension": ".py",
   "mimetype": "text/x-python",
   "name": "python",
   "nbconvert_exporter": "python",
   "pygments_lexer": "ipython3",
   "version": "3.10.8"
  },
  "orig_nbformat": 4,
  "vscode": {
   "interpreter": {
    "hash": "b0fa6594d8f4cbf19f97940f81e996739fb7646882a419484c72d19e05852a7e"
   }
  }
 },
 "nbformat": 4,
 "nbformat_minor": 2
}
