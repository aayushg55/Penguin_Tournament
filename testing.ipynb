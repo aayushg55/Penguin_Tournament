{
 "cells": [
  {
   "cell_type": "code",
   "execution_count": 2,
   "metadata": {},
   "outputs": [
    {
     "name": "stderr",
     "output_type": "stream",
     "text": [
      "/opt/homebrew/lib/python3.10/site-packages/tqdm/auto.py:22: TqdmWarning: IProgress not found. Please update jupyter and ipywidgets. See https://ipywidgets.readthedocs.io/en/stable/user_install.html\n",
      "  from .autonotebook import tqdm as notebook_tqdm\n"
     ]
    }
   ],
   "source": [
    "from starter import *\n",
    "from anneal import *\n",
    "import math\n",
    "import multiprocess as mp\n",
    "import copy, random\n",
    "from collections import defaultdict, Counter\n",
    "import itertools\n",
    "tar('outputs', overwrite = True)"
   ]
  },
  {
   "cell_type": "code",
   "execution_count": 3,
   "metadata": {},
   "outputs": [
    {
     "data": {
      "text/plain": [
       "53"
      ]
     },
     "execution_count": 3,
     "metadata": {},
     "output_type": "execute_result"
    }
   ],
   "source": [
    "df = pd.read_csv('best_scores.csv')\n",
    "sum(df['score'] > 200000)"
   ]
  },
  {
   "cell_type": "code",
   "execution_count": 4,
   "metadata": {},
   "outputs": [],
   "source": [
    "tar('outputs', overwrite = True)"
   ]
  },
  {
   "cell_type": "code",
   "execution_count": 12,
   "metadata": {},
   "outputs": [
    {
     "data": {
      "text/plain": [
       "['medium218.in',\n",
       " 'medium249.in',\n",
       " 'large108.in',\n",
       " 'medium84.in',\n",
       " 'large122.in',\n",
       " 'large11.in',\n",
       " 'medium53.in',\n",
       " 'large105.in',\n",
       " 'large173.in',\n",
       " 'medium94.in',\n",
       " 'large109.in',\n",
       " 'small206.in',\n",
       " 'large10.in',\n",
       " 'large101.in',\n",
       " 'large180.in',\n",
       " 'large104.in',\n",
       " 'large111.in',\n",
       " 'large102.in']"
      ]
     },
     "execution_count": 12,
     "metadata": {},
     "output_type": "execute_result"
    }
   ],
   "source": [
    "def get_low_scoring_inps():\n",
    "    f = open('low_scores.txt', 'r')\n",
    "    lines = f.readlines()\n",
    "\n",
    "    names = []\n",
    "    for line in lines:\n",
    "        names.append(line.strip()+'.in')\n",
    "    return names\n",
    "low_scores = get_low_scoring_inps()\n",
    "low_scores"
   ]
  },
  {
   "cell_type": "code",
   "execution_count": null,
   "metadata": {},
   "outputs": [],
   "source": [
    "pool = mp.Pool(mp.cpu_count())\n",
    "df = pd.read_csv('best_scores.csv')\n",
    "\n",
    "pool.map(run_encapsulate, [(file, solve, 'inputs', 'outputs',True, df) for file in tqdm(low_scores)])\n",
    "\n",
    "pool.close()"
   ]
  },
  {
   "cell_type": "code",
   "execution_count": 2,
   "metadata": {},
   "outputs": [
    {
     "data": {
      "text/plain": [
       "[('large84.in', 24500, 11),\n",
       " ('large47.in', 24500, 11),\n",
       " ('large160.in', 14845, 10),\n",
       " ('large216.in', 280, 2),\n",
       " ('small153.in', 402518, 12)]"
      ]
     },
     "execution_count": 2,
     "metadata": {},
     "output_type": "execute_result"
    }
   ],
   "source": [
    "def get_low_scoring_inps():\n",
    "    f = open('low_scores.txt', 'r')\n",
    "    f2 = open('k.txt', 'r')\n",
    "\n",
    "    lines = f.readlines()\n",
    "    lines_k = f2.readlines()\n",
    "    names = []\n",
    "    for line,line2 in zip(lines,lines_k):\n",
    "        size, num, target = line.strip().split()\n",
    "        k = int(line2.strip())\n",
    "        names.append((size+num+'.in',int(target),k))\n",
    "    return names\n",
    "low_scores = get_low_scoring_inps()\n",
    "low_scores[:5]"
   ]
  },
  {
   "cell_type": "code",
   "execution_count": null,
   "metadata": {},
   "outputs": [],
   "source": []
  }
 ],
 "metadata": {
  "kernelspec": {
   "display_name": "Python 3.10.8 64-bit",
   "language": "python",
   "name": "python3"
  },
  "language_info": {
   "codemirror_mode": {
    "name": "ipython",
    "version": 3
   },
   "file_extension": ".py",
   "mimetype": "text/x-python",
   "name": "python",
   "nbconvert_exporter": "python",
   "pygments_lexer": "ipython3",
   "version": "3.10.8"
  },
  "orig_nbformat": 4,
  "vscode": {
   "interpreter": {
    "hash": "b0fa6594d8f4cbf19f97940f81e996739fb7646882a419484c72d19e05852a7e"
   }
  }
 },
 "nbformat": 4,
 "nbformat_minor": 2
}
