{
 "cells": [
  {
   "cell_type": "code",
   "execution_count": 4,
   "metadata": {},
   "outputs": [
    {
     "name": "stderr",
     "output_type": "stream",
     "text": [
      "/opt/homebrew/lib/python3.10/site-packages/tqdm/auto.py:22: TqdmWarning: IProgress not found. Please update jupyter and ipywidgets. See https://ipywidgets.readthedocs.io/en/stable/user_install.html\n",
      "  from .autonotebook import tqdm as notebook_tqdm\n"
     ]
    }
   ],
   "source": [
    "from starter import *\n",
    "from anneal import *\n",
    "import math\n",
    "import multiprocess as mp\n",
    "import copy, random\n",
    "from collections import defaultdict, Counter\n",
    "import itertools\n",
    "from bs4 import BeautifulSoup\n",
    "import requests\n",
    "tar('outputs', overwrite = True)"
   ]
  },
  {
   "cell_type": "code",
   "execution_count": 5,
   "metadata": {},
   "outputs": [
    {
     "data": {
      "text/plain": [
       "50"
      ]
     },
     "execution_count": 5,
     "metadata": {},
     "output_type": "execute_result"
    }
   ],
   "source": [
    "df = pd.read_csv('best_scores.csv')\n",
    "sum(df['score'] > 200000)"
   ]
  },
  {
   "cell_type": "code",
   "execution_count": 6,
   "metadata": {},
   "outputs": [],
   "source": [
    "tar('outputs', overwrite = True)"
   ]
  },
  {
   "cell_type": "code",
   "execution_count": 13,
   "metadata": {},
   "outputs": [
    {
     "data": {
      "text/plain": [
       "559"
      ]
     },
     "execution_count": 13,
     "metadata": {},
     "output_type": "execute_result"
    }
   ],
   "source": [
    "def get_all_low():\n",
    "    f = open('all.txt', 'r')\n",
    "    \n",
    "    lines = f.readlines()\n",
    "    names = []\n",
    "    for line in lines:\n",
    "        size, num = line.strip().split()\n",
    "        names.append((size+num+'.in', size, num))\n",
    "    return names\n",
    "low_scores_all = get_all_low()\n",
    "len(low_scores_all)"
   ]
  },
  {
   "cell_type": "code",
   "execution_count": 7,
   "metadata": {},
   "outputs": [],
   "source": [
    "\n",
    "def apply_pi(G, pi):\n",
    "    num_v = len(G.nodes)\n",
    "    assert num_v == len(pi)\n",
    "    max_p = max(pi)\n",
    "\n",
    "    p = list(Counter(pi))\n",
    "    p.sort()\n",
    "    map_p = {p[i]:i for i in range(len(p))}\n",
    "    for v in range(num_v):\n",
    "        G.nodes[v]['team'] = int(map_p[pi[v]] + 1)\n",
    "    return G  "
   ]
  },
  {
   "cell_type": "code",
   "execution_count": 19,
   "metadata": {},
   "outputs": [
    {
     "data": {
      "text/plain": [
       "26"
      ]
     },
     "execution_count": 19,
     "metadata": {},
     "output_type": "execute_result"
    }
   ],
   "source": [
    "solved = []\n",
    "for file,target,k in (targets):\n",
    "    df = pd.read_csv('best_scores.csv')\n",
    "    r = df.index[df['name'] == file]\n",
    "    min_cost = float(df.iloc[r]['score'])\n",
    "    if min_cost <= target:\n",
    "        solved.append((file, min_cost, target))\n",
    "len(solved)"
   ]
  },
  {
   "cell_type": "code",
   "execution_count": 24,
   "metadata": {},
   "outputs": [],
   "source": [
    "def write(instance, in_file, out_file, file_name, cost, k, overwrite):\n",
    "    df = pd.read_csv('best_scores.csv')\n",
    "    r = df.index[df['name'] == file_name]\n",
    "    original = float(df.loc[r, 'score'])\n",
    "    df.loc[r, 'score'] = cost\n",
    "    df.loc[r, 'k'] = k\n",
    "    df.to_csv('best_scores.csv', index=False)\n",
    "    print(f\"{str(in_file)}: cost\", original, '->',score(instance))\n",
    "    write_output(instance, out_file, overwrite)"
   ]
  },
  {
   "cell_type": "code",
   "execution_count": 26,
   "metadata": {},
   "outputs": [
    {
     "data": {
      "text/plain": [
       "4"
      ]
     },
     "execution_count": 26,
     "metadata": {},
     "output_type": "execute_result"
    }
   ],
   "source": [
    "df2 = pd.read_csv('best_scores_first.csv')\n"
   ]
  },
  {
   "cell_type": "code",
   "execution_count": 27,
   "metadata": {},
   "outputs": [
    {
     "name": "stdout",
     "output_type": "stream",
     "text": [
      "low\n",
      "low\n",
      "low\n",
      "low\n",
      "low\n",
      "low\n",
      "low\n",
      "low\n",
      "low\n",
      "low\n",
      "low\n",
      "low\n",
      "low\n",
      "low\n",
      "low\n",
      "low\n",
      "low\n",
      "low\n",
      "low\n",
      "low\n",
      "low\n",
      "low\n",
      "low\n",
      "low\n",
      "low\n",
      "low\n",
      "low\n",
      "low\n",
      "low\n",
      "low\n",
      "low\n",
      "low\n",
      "low\n",
      "low\n",
      "low\n",
      "low\n",
      "low\n",
      "low\n",
      "low\n",
      "low\n",
      "low\n",
      "low\n",
      "low\n"
     ]
    }
   ],
   "source": [
    "for file, cost_my, cost_target in targets:\n",
    "    G = read_input('inputs/'+file)\n",
    "    f_my = open(str(Path('outputs') / f\"{file[:-len('.in')]}.out\"))\n",
    "    f_first = open(str(Path('outputs_firsthalf') / f\"{file[:-len('.in')]}.out\"))\n",
    "    pi_my = json.load(f_my)\n",
    "    apply_pi(G, pi_my)\n",
    "    score_my = score(G)\n",
    "    \n",
    "    pi_first = json.load(f_first)\n",
    "    apply_pi(G, pi_first)\n",
    "    score_first = score(G)\n",
    "    \n",
    "    r = df.index[df['name'] == file]\n",
    "    k = int(df.loc[r, 'k'])\n",
    "    \n",
    "    if score_first < score_my:\n",
    "        write(G,'inputs/'+file,str(Path('outputs') / f\"{file[:-len('.in')]}.out\"), file, score_first,k )\n",
    "    f_my.close()\n",
    "    f_first.close()"
   ]
  },
  {
   "cell_type": "code",
   "execution_count": 2,
   "metadata": {},
   "outputs": [],
   "source": [
    "def get_targets(file):\n",
    "    f = open(file, 'r')\n",
    "    lines = f.readlines()\n",
    "    targets = []\n",
    "    for line in lines:\n",
    "        name, num, k = line.strip().split()\n",
    "        targets.append((name, float(num), int(k)))\n",
    "    return targets\n",
    "targets = get_targets('target_soln.txt')"
   ]
  },
  {
   "cell_type": "code",
   "execution_count": 14,
   "metadata": {},
   "outputs": [
    {
     "name": "stderr",
     "output_type": "stream",
     "text": [
      "100%|██████████| 559/559 [02:48<00:00,  3.32it/s]\n"
     ]
    }
   ],
   "source": [
    "# import library\n",
    "\n",
    "# Request to website and download HTML contents\n",
    "target_scores = []\n",
    "for filename, size, num in tqdm(low_scores_all):\n",
    "    url='https://170-leaderboard.vercel.app/input/'+size+'/'+ num\n",
    "    req=requests.get(url)\n",
    "    content=req.text\n",
    "    soup=BeautifulSoup(content)\n",
    "    raw = soup.findAll('td')[2].text\n",
    "    target = float(raw)+0.05\n",
    "    target_scores.append([filename,target])"
   ]
  },
  {
   "cell_type": "code",
   "execution_count": 28,
   "metadata": {},
   "outputs": [],
   "source": [
    "target_scores = [[name,score] for name,score in target_scores.items()]"
   ]
  },
  {
   "cell_type": "code",
   "execution_count": 16,
   "metadata": {},
   "outputs": [],
   "source": [
    "\n",
    "df = pd.read_csv('best_scores.csv')\n",
    "    \n",
    "for i in range(len(target_scores)):\n",
    "    filename, target = target_scores[i][:2]\n",
    "    approx = 2*np.log(target/100)\n",
    "    k = math.floor(approx)\n",
    "    r = df.index[df['name'] == filename]\n",
    "    num_p = int(df.iloc[r]['k'])\n",
    "    if abs(k-num_p) > 3:\n",
    "        k = num_p\n",
    "    target_scores[i] = [filename, str(target),str(k)]"
   ]
  },
  {
   "cell_type": "code",
   "execution_count": 18,
   "metadata": {},
   "outputs": [],
   "source": [
    "f = open(\"target_soln_new.txt\", \"w\")\n",
    "for line in target_scores:\n",
    "    f.write(line[0] + ' ' + line[1] + ' ' + line[2])\n",
    "    f.write('\\n')\n",
    "f.close()\n"
   ]
  },
  {
   "cell_type": "code",
   "execution_count": 20,
   "metadata": {},
   "outputs": [],
   "source": [
    "targets = []\n",
    "def get_targets(file):\n",
    "    f = open(file, 'r')\n",
    "    lines = f.readlines()\n",
    "    targets = []\n",
    "    for line in lines:\n",
    "        name, num, k = line.strip().split()\n",
    "        targets.append((name, float(num), int(k)))\n",
    "    return targets\n",
    "targets = get_targets('target_soln.txt')\n"
   ]
  },
  {
   "cell_type": "code",
   "execution_count": null,
   "metadata": {},
   "outputs": [],
   "source": []
  }
 ],
 "metadata": {
  "kernelspec": {
   "display_name": "Python 3.10.8 64-bit",
   "language": "python",
   "name": "python3"
  },
  "language_info": {
   "codemirror_mode": {
    "name": "ipython",
    "version": 3
   },
   "file_extension": ".py",
   "mimetype": "text/x-python",
   "name": "python",
   "nbconvert_exporter": "python",
   "pygments_lexer": "ipython3",
   "version": "3.10.8"
  },
  "orig_nbformat": 4,
  "vscode": {
   "interpreter": {
    "hash": "b0fa6594d8f4cbf19f97940f81e996739fb7646882a419484c72d19e05852a7e"
   }
  }
 },
 "nbformat": 4,
 "nbformat_minor": 2
}
