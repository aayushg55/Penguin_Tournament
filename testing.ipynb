{
 "cells": [
  {
   "cell_type": "code",
   "execution_count": 4,
   "metadata": {},
   "outputs": [
    {
     "name": "stderr",
     "output_type": "stream",
     "text": [
      "/opt/homebrew/lib/python3.10/site-packages/tqdm/auto.py:22: TqdmWarning: IProgress not found. Please update jupyter and ipywidgets. See https://ipywidgets.readthedocs.io/en/stable/user_install.html\n",
      "  from .autonotebook import tqdm as notebook_tqdm\n"
     ]
    }
   ],
   "source": [
    "from starter import *\n",
    "from anneal import *\n",
    "import math\n",
    "import multiprocess as mp\n",
    "import copy, random\n",
    "from collections import defaultdict, Counter\n",
    "import itertools\n",
    "from bs4 import BeautifulSoup\n",
    "import requests\n",
    "tar('outputs', overwrite = True)"
   ]
  },
  {
   "cell_type": "code",
   "execution_count": 5,
   "metadata": {},
   "outputs": [
    {
     "data": {
      "text/plain": [
       "50"
      ]
     },
     "execution_count": 5,
     "metadata": {},
     "output_type": "execute_result"
    }
   ],
   "source": [
    "df = pd.read_csv('best_scores.csv')\n",
    "sum(df['score'] > 200000)"
   ]
  },
  {
   "cell_type": "code",
   "execution_count": 6,
   "metadata": {},
   "outputs": [],
   "source": [
    "tar('outputs', overwrite = True)"
   ]
  },
  {
   "cell_type": "code",
   "execution_count": 13,
   "metadata": {},
   "outputs": [
    {
     "data": {
      "text/plain": [
       "559"
      ]
     },
     "execution_count": 13,
     "metadata": {},
     "output_type": "execute_result"
    }
   ],
   "source": [
    "def get_all_low():\n",
    "    f = open('all.txt', 'r')\n",
    "    \n",
    "    lines = f.readlines()\n",
    "    names = []\n",
    "    for line in lines:\n",
    "        size, num = line.strip().split()\n",
    "        names.append((size+num+'.in', size, num))\n",
    "    return names\n",
    "low_scores_all = get_all_low()\n",
    "len(low_scores_all)"
   ]
  },
  {
   "cell_type": "code",
   "execution_count": 7,
   "metadata": {},
   "outputs": [],
   "source": [
    "\n",
    "def apply_pi(G, pi):\n",
    "    num_v = len(G.nodes)\n",
    "    assert num_v == len(pi)\n",
    "    max_p = max(pi)\n",
    "\n",
    "    p = list(Counter(pi))\n",
    "    p.sort()\n",
    "    map_p = {p[i]:i for i in range(len(p))}\n",
    "    for v in range(num_v):\n",
    "        G.nodes[v]['team'] = int(map_p[pi[v]] + 1)\n",
    "    return G  "
   ]
  },
  {
   "cell_type": "code",
   "execution_count": 19,
   "metadata": {},
   "outputs": [
    {
     "data": {
      "text/plain": [
       "26"
      ]
     },
     "execution_count": 19,
     "metadata": {},
     "output_type": "execute_result"
    }
   ],
   "source": [
    "solved = []\n",
    "for file,target,k in (targets):\n",
    "    df = pd.read_csv('best_scores.csv')\n",
    "    r = df.index[df['name'] == file]\n",
    "    min_cost = float(df.iloc[r]['score'])\n",
    "    if min_cost <= target:\n",
    "        solved.append((file, min_cost, target))\n",
    "len(solved)"
   ]
  },
  {
   "cell_type": "code",
   "execution_count": 30,
   "metadata": {},
   "outputs": [],
   "source": [
    "def write(instance, in_file, out_file, file_name, cost, k, overwrite):\n",
    "    df = pd.read_csv('best_scores.csv')\n",
    "    r = df.index[df['name'] == file_name]\n",
    "    original = float(df.loc[r, 'score'])\n",
    "    assert cost < original\n",
    "    df.loc[r, 'score'] = cost\n",
    "    df.loc[r, 'k'] = k\n",
    "    df.to_csv('best_scores.csv', index=False)\n",
    "    print(f\"{str(in_file)}: cost\", original, '->',score(instance))\n",
    "    write_output(instance, out_file, overwrite)"
   ]
  },
  {
   "cell_type": "code",
   "execution_count": 28,
   "metadata": {},
   "outputs": [],
   "source": [
    "df2 = pd.read_csv('best_scores_first.csv')\n"
   ]
  },
  {
   "cell_type": "code",
   "execution_count": 31,
   "metadata": {},
   "outputs": [
    {
     "name": "stdout",
     "output_type": "stream",
     "text": [
      "inputs/small215.in: cost 2040.797760513179 -> 2010.797760513179\n",
      "inputs/medium191.in: cost 449.5598517448982 -> 449.1689070338065\n",
      "inputs/large38.in: cost 18059.82968095557 -> 15053.881984455735\n",
      "inputs/large40.in: cost 18602.78135317254 -> 15060.815003314423\n",
      "inputs/large203.in: cost 12351.2596504033 -> 12351.259650403294\n",
      "inputs/small103.in: cost 1220.940494621729 -> 1219.2493960703473\n",
      "inputs/medium177.in: cost 17327.40737527859 -> 15898.957198246593\n",
      "inputs/medium224.in: cost 35346.0426970733 -> 34540.042697073266\n",
      "inputs/medium228.in: cost 21451.4045262292 -> 20731.30779981041\n",
      "inputs/medium250.in: cost 32082.70685496875 -> 31532.08691600961\n",
      "inputs/small251.in: cost 24526.186331799625 -> 23796.992492811816\n",
      "inputs/small175.in: cost 83420.49323151434 -> 81783.90918776828\n",
      "inputs/small233.in: cost 5530.506101865785 -> 4385.200386104066\n",
      "inputs/large141.in: cost 6102.530954911454 -> 5665.178712059349\n",
      "inputs/small114.in: cost 386745.3688118974 -> 386420.3688118974\n",
      "inputs/small178.in: cost 4295.547818366504 -> 3858.6539248576682\n",
      "inputs/small244.in: cost 5462.50610186579 -> 4648.108180107433\n",
      "inputs/small248.in: cost 161836.49323151435 -> 156502.01581064696\n",
      "inputs/small34.in: cost 174346.9091877683 -> 169821.7311602446\n",
      "inputs/small102.in: cost 133107.7311602446 -> 131654.90918776827\n",
      "inputs/small116.in: cost 2065.462600323948 -> 1322.1333767973658\n",
      "inputs/small132.in: cost 160717.49323151432 -> 158702.49323151432\n",
      "inputs/small223.in: cost 307449.01581064693 -> 306654.01581064693\n",
      "inputs/large185.in: cost 4599.136060786686 -> 4049.792903466609\n",
      "inputs/medium208.in: cost 1655.2493960703473 -> 1219.2493960703473\n",
      "inputs/small118.in: cost 162547.14243574018 -> 160475.41592657613\n",
      "inputs/small141.in: cost 4402.547818366504 -> 4173.125063845673\n",
      "inputs/small169.in: cost 131828.90918776827 -> 128523.49323151434\n",
      "inputs/small187.in: cost 143111.01581064696 -> 140417.90918776827\n",
      "inputs/small210.in: cost 4931.626482909586 -> 4017.547818366504\n",
      "inputs/small220.in: cost 40753.00700880905 -> 38447.37111022451\n",
      "inputs/medium4.in: cost 123327.31664124977 -> 122757.01581064695\n",
      "inputs/medium18.in: cost 14842.31591025766 -> 13669.515923320336\n",
      "inputs/medium38.in: cost 30543.302652966944 -> 29872.407375278603\n",
      "inputs/small20.in: cost 60449.27302561837 -> 59657.48951581028\n",
      "inputs/small23.in: cost 5462.506101865787 -> 3317.6539248576682\n",
      "inputs/small147.in: cost 72714.49323151434 -> 70724.90918776828\n",
      "inputs/small236.in: cost 4744.200386104065 -> 4601.283972521378\n",
      "inputs/small253.in: cost 95645.48951581027 -> 92854.90918776828\n",
      "inputs/small195.in: cost 31161.03011693571 -> 30911.253388552206\n",
      "inputs/small196.in: cost 129707.49323151434 -> 127499.49323151434\n",
      "inputs/small201.in: cost 97038.49323151434 -> 95165.90918776828\n",
      "inputs/small237.in: cost 116897.41592657616 -> 113593.49323151434\n"
     ]
    }
   ],
   "source": [
    "for file, cost_my, cost_target in targets:\n",
    "    G = read_input('inputs/'+file)\n",
    "    f_my = open(str(Path('outputs') / f\"{file[:-len('.in')]}.out\"))\n",
    "    f_first = open(str(Path('outputs_firsthalf') / f\"{file[:-len('.in')]}.out\"))\n",
    "    pi_my = json.load(f_my)\n",
    "    apply_pi(G, pi_my)\n",
    "    score_my = score(G)\n",
    "    \n",
    "    pi_first = json.load(f_first)\n",
    "    apply_pi(G, pi_first)\n",
    "    score_first = score(G)\n",
    "    \n",
    "    r = df.index[df['name'] == file]\n",
    "    k = int(df.loc[r, 'k'])\n",
    "    \n",
    "    if score_first < score_my:\n",
    "        write(G,'inputs/'+file,str(Path('outputs') / f\"{file[:-len('.in')]}.out\"), file, score_first,k, True)\n",
    "    f_my.close()\n",
    "    f_first.close()"
   ]
  },
  {
   "cell_type": "code",
   "execution_count": 2,
   "metadata": {},
   "outputs": [],
   "source": [
    "def get_targets(file):\n",
    "    f = open(file, 'r')\n",
    "    lines = f.readlines()\n",
    "    targets = []\n",
    "    for line in lines:\n",
    "        name, num, k = line.strip().split()\n",
    "        targets.append((name, float(num), int(k)))\n",
    "    return targets\n",
    "targets = get_targets('target_soln.txt')"
   ]
  },
  {
   "cell_type": "code",
   "execution_count": 14,
   "metadata": {},
   "outputs": [
    {
     "name": "stderr",
     "output_type": "stream",
     "text": [
      "100%|██████████| 559/559 [02:48<00:00,  3.32it/s]\n"
     ]
    }
   ],
   "source": [
    "# import library\n",
    "\n",
    "# Request to website and download HTML contents\n",
    "target_scores = []\n",
    "for filename, size, num in tqdm(low_scores_all):\n",
    "    url='https://170-leaderboard.vercel.app/input/'+size+'/'+ num\n",
    "    req=requests.get(url)\n",
    "    content=req.text\n",
    "    soup=BeautifulSoup(content)\n",
    "    raw = soup.findAll('td')[2].text\n",
    "    target = float(raw)+0.05\n",
    "    target_scores.append([filename,target])"
   ]
  },
  {
   "cell_type": "code",
   "execution_count": 28,
   "metadata": {},
   "outputs": [],
   "source": [
    "target_scores = [[name,score] for name,score in target_scores.items()]"
   ]
  },
  {
   "cell_type": "code",
   "execution_count": 16,
   "metadata": {},
   "outputs": [],
   "source": [
    "\n",
    "df = pd.read_csv('best_scores.csv')\n",
    "    \n",
    "for i in range(len(target_scores)):\n",
    "    filename, target = target_scores[i][:2]\n",
    "    approx = 2*np.log(target/100)\n",
    "    k = math.floor(approx)\n",
    "    r = df.index[df['name'] == filename]\n",
    "    num_p = int(df.iloc[r]['k'])\n",
    "    if abs(k-num_p) > 3:\n",
    "        k = num_p\n",
    "    target_scores[i] = [filename, str(target),str(k)]"
   ]
  },
  {
   "cell_type": "code",
   "execution_count": 18,
   "metadata": {},
   "outputs": [],
   "source": [
    "f = open(\"target_soln_new.txt\", \"w\")\n",
    "for line in target_scores:\n",
    "    f.write(line[0] + ' ' + line[1] + ' ' + line[2])\n",
    "    f.write('\\n')\n",
    "f.close()\n"
   ]
  },
  {
   "cell_type": "code",
   "execution_count": 20,
   "metadata": {},
   "outputs": [],
   "source": [
    "targets = []\n",
    "def get_targets(file):\n",
    "    f = open(file, 'r')\n",
    "    lines = f.readlines()\n",
    "    targets = []\n",
    "    for line in lines:\n",
    "        name, num, k = line.strip().split()\n",
    "        targets.append((name, float(num), int(k)))\n",
    "    return targets\n",
    "targets = get_targets('target_soln.txt')\n"
   ]
  },
  {
   "cell_type": "code",
   "execution_count": null,
   "metadata": {},
   "outputs": [],
   "source": []
  }
 ],
 "metadata": {
  "kernelspec": {
   "display_name": "Python 3.10.8 64-bit",
   "language": "python",
   "name": "python3"
  },
  "language_info": {
   "codemirror_mode": {
    "name": "ipython",
    "version": 3
   },
   "file_extension": ".py",
   "mimetype": "text/x-python",
   "name": "python",
   "nbconvert_exporter": "python",
   "pygments_lexer": "ipython3",
   "version": "3.10.8"
  },
  "orig_nbformat": 4,
  "vscode": {
   "interpreter": {
    "hash": "b0fa6594d8f4cbf19f97940f81e996739fb7646882a419484c72d19e05852a7e"
   }
  }
 },
 "nbformat": 4,
 "nbformat_minor": 2
}
